{
 "cells": [
  {
   "cell_type": "code",
   "execution_count": 7,
   "metadata": {},
   "outputs": [],
   "source": [
    "import chess\n",
    "from chess import *"
   ]
  },
  {
   "cell_type": "code",
   "execution_count": 10,
   "metadata": {},
   "outputs": [
    {
     "name": "stdout",
     "output_type": "stream",
     "text": [
      "0b1000000100001010000000000000101000010000001000000\n"
     ]
    }
   ],
   "source": [
    "# Precompute diagonal attacks\n",
    "BB_DIAG_MASKS, BB_DIAG_ATTACKS = chess._attack_table([-9, -7, +7, +9])\n",
    "\n",
    "# Get bishop attacks from D4 with specific blockers\n",
    "bishop_square = D4\n",
    "blockers = BB_SQUARES[E5] | BB_SQUARES[C3]\n",
    "bishop_attacks = BB_DIAG_ATTACKS[bishop_square][blockers]\n",
    "\n",
    "print(bin(bishop_attacks))\n",
    "# Output: Binary representation of bishop's attack pattern from D4 with blockers.\n"
   ]
  },
  {
   "cell_type": "code",
   "execution_count": 11,
   "metadata": {},
   "outputs": [
    {
     "name": "stdout",
     "output_type": "stream",
     "text": [
      "Rook attacks from D4 (valid): 0b1000000010000000100001110110000010000000100000000000\n"
     ]
    }
   ],
   "source": [
    "from typing import List\n",
    "\n",
    "# Example: Rook on D4\n",
    "rook_square = 27  # D4\n",
    "rook_deltas = [-8, 8, -1, 1]  # Vertical and horizontal directions (rank/file)\n",
    "\n",
    "# All potential sliding attacks for a rook on D4 without blockers\n",
    "rook_attacks = chess._sliding_attacks(rook_square, BB_EMPTY, rook_deltas)\n",
    "\n",
    "# Restrict attacks to valid boundaries using _edges\n",
    "valid_rook_attacks = rook_attacks & ~chess._edges(rook_square)\n",
    "\n",
    "# Output the result\n",
    "print(f\"Rook attacks from D4 (valid): {bin(valid_rook_attacks)}\")\n"
   ]
  }
 ],
 "metadata": {
  "kernelspec": {
   "display_name": "python-medieval-chess",
   "language": "python",
   "name": "python3"
  },
  "language_info": {
   "codemirror_mode": {
    "name": "ipython",
    "version": 3
   },
   "file_extension": ".py",
   "mimetype": "text/x-python",
   "name": "python",
   "nbconvert_exporter": "python",
   "pygments_lexer": "ipython3",
   "version": "3.13.1"
  }
 },
 "nbformat": 4,
 "nbformat_minor": 2
}
